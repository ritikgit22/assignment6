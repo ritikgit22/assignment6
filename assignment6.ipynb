{
  "nbformat": 4,
  "nbformat_minor": 0,
  "metadata": {
    "colab": {
      "provenance": []
    },
    "kernelspec": {
      "name": "python3",
      "display_name": "Python 3"
    },
    "language_info": {
      "name": "python"
    }
  },
  "cells": [
    {
      "cell_type": "markdown",
      "source": [
        "##Theoretical Questions :"
      ],
      "metadata": {
        "id": "DSNdh-qyQE3Z"
      }
    },
    {
      "cell_type": "markdown",
      "source": [
        "Q1 - Explain the purpose and advantages of Numpy in scientific computing and data analysis. How does it enhance Python's capabilities for numerical operations?"
      ],
      "metadata": {
        "id": "U5Uf1GEfoKba"
      }
    },
    {
      "cell_type": "markdown",
      "source": [
        "Ans - **NumPy: The Powerhouse of Scientific Computing in Python**\n",
        "\n",
        "NumPy, short for Numerical Python, is a fundamental library for scientific computing in Python. It provides efficient array manipulation and mathematical functions, significantly boosting Python's capabilities for numerical operations.\n",
        "\n",
        "**Key Purposes of NumPy:**\n",
        "\n",
        "1. **Efficient Array Handling:**\n",
        "   - **Multidimensional Arrays:** NumPy introduces the `ndarray` object, which represents n-dimensional arrays. These arrays are more efficient than Python's built-in lists, especially for large datasets.\n",
        "   - **Vectorized Operations:** NumPy allows for vectorized operations, meaning operations are performed element-wise on entire arrays, eliminating the need for explicit loops. This significantly speeds up computations.\n",
        "\n",
        "2. **Mathematical Functions:**\n",
        "   - **Broadcasting:** NumPy's broadcasting rules enable operations between arrays of different shapes, simplifying complex calculations.\n",
        "   - **Universal Functions (UFuncs):** NumPy provides a rich set of ufuncs for mathematical operations like trigonometric functions, logarithmic functions, and statistical calculations.\n",
        "   - **Linear Algebra:** NumPy offers efficient linear algebra routines, including matrix multiplication, inversion, and eigenvalue decomposition.\n",
        "\n",
        "**Advantages of NumPy:**\n",
        "\n",
        "- **Performance:** NumPy's C-based implementation and vectorization techniques make it significantly faster than pure Python for numerical operations.\n",
        "- **Ease of Use:** NumPy's intuitive syntax and high-level abstractions simplify complex numerical computations.\n",
        "- **Integration with Other Libraries:** NumPy serves as the foundation for many other scientific Python libraries, such as SciPy, Pandas, and Matplotlib.\n",
        "- **Large Community and Support:** NumPy has a large and active community, providing extensive documentation, tutorials, and support resources.\n",
        "\n",
        "**How NumPy Enhances Python's Numerical Capabilities:**\n",
        "\n",
        "- **Efficient Data Structures:** NumPy's `ndarray` provides a powerful and efficient data structure for storing and manipulating numerical data.\n",
        "- **Vectorized Operations:** NumPy's vectorized operations allow for concise and efficient code, avoiding explicit loops and significantly improving performance.\n",
        "- **Broadcasting:** NumPy's broadcasting rules enable flexible and efficient operations between arrays of different shapes.\n",
        "- **Mathematical Functions:** NumPy offers a comprehensive set of mathematical functions, including linear algebra, statistical functions, and more.\n",
        "- **Integration with Other Libraries:** NumPy's integration with other scientific Python libraries enables seamless data analysis and visualization workflows.\n",
        "\n",
        "In conclusion, NumPy is an indispensable tool for scientific computing and data analysis in Python. Its efficient array handling, powerful mathematical functions, and seamless integration with other libraries make it a cornerstone of the Python scientific ecosystem."
      ],
      "metadata": {
        "id": "eg6PbUovoPMc"
      }
    },
    {
      "cell_type": "markdown",
      "source": [
        "Q2 - Compare and contrast np.mean() and np.average() functions in Numpy. When would you use one over the other?"
      ],
      "metadata": {
        "id": "X7QlWKHco4Qv"
      }
    },
    {
      "cell_type": "markdown",
      "source": [
        "Ans - **NumPy's `np.mean()` and `np.average()`**\n",
        "\n",
        "Both `np.mean()` and `np.average()` are functions in NumPy used to calculate averages. However, they have subtle differences in their behavior, especially when dealing with weighted averages.\n",
        "\n",
        "**np.mean()**\n",
        "* **Simple Average:** Calculates the arithmetic mean of an array, which is the sum of all elements divided by the number of elements.\n",
        "* **Syntax:** `np.mean(array, axis=None, dtype=None, out=None, keepdims=False)`\n",
        "\n",
        "**np.average()**\n",
        "* **Weighted Average:** Can calculate the weighted average if weights are provided.\n",
        "* **Syntax:** `np.average(a, weights=None, axis=None, returned=False)`\n",
        "\n",
        "**When to Use Which:**\n",
        "\n",
        "* **np.mean():**\n",
        "  - Use when you need a simple, unweighted average.\n",
        "  - Ideal for quick calculations of central tendency.\n",
        "\n",
        "* **np.average():**\n",
        "  - Use when you need to calculate a weighted average.\n",
        "  - Useful in statistical analysis where certain data points have more significance.\n",
        "\n",
        "**Example:**\n",
        "\n",
        "```python\n",
        "import numpy as np\n",
        "\n",
        "# Simple average\n",
        "arr = np.array([1, 2, 3, 4, 5])\n",
        "mean_value = np.mean(arr)\n",
        "print(mean_value)  # Output: 3.0\n",
        "\n",
        "# Weighted average\n",
        "weights = np.array([1, 2, 3, 4, 5])\n",
        "weighted_average = np.average(arr, weights=weights)\n",
        "print(weighted_average)  # Output: 3.6666666666666665\n",
        "```\n",
        "\n",
        "In the example above, the weighted average gives more importance to the larger numbers, as they have higher weights."
      ],
      "metadata": {
        "id": "rEkQKFrlo9wD"
      }
    },
    {
      "cell_type": "markdown",
      "source": [
        "Q3 - Describe the methods for reversing a Numpy array along different axes. Provide examples for 1D and 2D arrays."
      ],
      "metadata": {
        "id": "hyFNwybIpL7a"
      }
    },
    {
      "cell_type": "markdown",
      "source": [
        "Ans - **Reversing Numpy Arrays Along Different Axes**\n",
        "\n",
        "NumPy provides a straightforward way to reverse arrays along specific axes using array slicing and indexing.\n",
        "\n",
        "**Reversing a 1D Array:**\n",
        "\n",
        "To reverse a 1D array, we can simply use slicing with a step of -1:\n",
        "\n",
        "```python\n",
        "import numpy as np\n",
        "\n",
        "arr = np.array([1, 2, 3, 4, 5])\n",
        "reversed_arr = arr[::-1]\n",
        "print(reversed_arr)  # Output: [5 4 3 2 1]\n",
        "```\n",
        "\n",
        "**Reversing a 2D Array:**\n",
        "\n",
        "To reverse a 2D array, we can reverse along specific axes using the `[::-1]` slicing technique:\n",
        "\n",
        "* **Reversing Rows:**\n",
        "  ```python\n",
        "  arr = np.array([[1, 2, 3],\n",
        "                 [4, 5, 6],\n",
        "                 [7, 8, 9]])\n",
        "\n",
        "  reversed_rows = arr[::-1, :]\n",
        "  print(reversed_rows)\n",
        "  ```\n",
        "\n",
        "* **Reversing Columns:**\n",
        "  ```python\n",
        "  reversed_cols = arr[:, ::-1]\n",
        "  print(reversed_cols)\n",
        "  ```\n",
        "\n",
        "* **Reversing Both Rows and Columns:**\n",
        "  ```python\n",
        "  reversed_both = arr[::-1, ::-1]\n",
        "  print(reversed_both)\n",
        "  ```\n",
        "\n",
        "**Key Points:**\n",
        "\n",
        "* **Slicing:** The `[::-1]` slicing technique is used to reverse the order of elements in an array.\n",
        "* **Axis Specification:** The axis along which the reversal is performed can be specified using indexing.\n",
        "* **Flexibility:** You can combine multiple reversals to achieve complex array manipulations.\n",
        "\n",
        "By understanding these methods, you can efficiently reverse arrays along different axes to suit your specific data analysis needs."
      ],
      "metadata": {
        "id": "5IsqWoM-p3Os"
      }
    },
    {
      "cell_type": "markdown",
      "source": [
        "Q4 - How can you describe the data type of elements in a Numpy array? Discuss the importance of data types in memory management and performance."
      ],
      "metadata": {
        "id": "7lHsHJVEqhm7"
      }
    },
    {
      "cell_type": "markdown",
      "source": [
        "Ans - **Describing Data Types in Numpy Arrays**\n",
        "\n",
        "NumPy arrays are homogeneous, meaning all elements in an array must have the same data type. This data type determines the kind of data stored in each element, such as integers, floating-point numbers, or complex numbers.\n",
        "\n",
        "**To determine the data type of a Numpy array or its elements, you can use the `dtype` attribute:**\n",
        "\n",
        "```python\n",
        "import numpy as np\n",
        "\n",
        "arr = np.array([1, 2, 3, 4, 5])\n",
        "print(arr.dtype)  # Output: int64\n",
        "\n",
        "arr_float = np.array([1.1, 2.2, 3.3])\n",
        "print(arr_float.dtype)  # Output: float64\n",
        "```\n",
        "\n",
        "**Importance of Data Types in Memory Management and Performance:**\n",
        "\n",
        "1. **Memory Efficiency:**\n",
        "   - **Optimal Data Type Choice:** Selecting the appropriate data type for your data can significantly impact memory usage. For example, using `int32` instead of `int64` can halve the memory footprint for integer arrays.\n",
        "   - **Avoiding Unnecessary Precision:** If you don't need high precision, using a smaller data type like `float32` instead of `float64` can save memory, especially for large arrays.\n",
        "\n",
        "2. **Performance:**\n",
        "   - **Optimized Operations:** NumPy operations are optimized for specific data types. Using the correct data type can lead to faster computations.\n",
        "   - **Cache Efficiency:** Smaller data types can be more cache-friendly, as they take up less memory and can be loaded into cache more efficiently.\n",
        "\n",
        "3. **Data Integrity:**\n",
        "   - **Preventing Data Loss:** Choosing the correct data type ensures that data is represented accurately without loss of precision or range.\n",
        "   - **Avoiding Type Errors:** Mismatched data types can lead to unexpected results and errors during calculations.\n",
        "\n",
        "**In Conclusion:**\n",
        "\n",
        "Understanding and carefully selecting data types in NumPy is crucial for efficient memory usage and optimal performance. By considering the range of values, precision requirements, and memory constraints, you can choose the most suitable data type for your specific use case."
      ],
      "metadata": {
        "id": "Z_ZpOXfVqjY8"
      }
    },
    {
      "cell_type": "markdown",
      "source": [
        "Q5 - Define ndarrays in Numpy and explain their key features. How do they differ from standard Python lists?"
      ],
      "metadata": {
        "id": "bTcyznBBJsRV"
      }
    },
    {
      "cell_type": "markdown",
      "source": [
        "Ans - **Numpy ndarrays: A Powerful Tool for Numerical Computing**\n",
        "\n",
        "In the realm of Python's scientific computing ecosystem, NumPy's ndarrays (n-dimensional arrays) stand as the cornerstone. These versatile data structures provide a high-performance, efficient, and convenient way to handle multidimensional arrays of numbers.\n",
        "\n",
        "**Key Features of Numpy ndarrays:**\n",
        "\n",
        "1. **Homogeneous Data Type:** Unlike Python lists, which can hold elements of diverse data types, ndarrays enforce a single, uniform data type for all elements. This homogeneity significantly enhances memory efficiency and computational speed.\n",
        "2. **Multidimensional Arrays:** Ndarrays can represent data in any number of dimensions, from simple one-dimensional vectors to complex multidimensional matrices and tensors. This flexibility makes them suitable for a wide range of applications, including linear algebra, image processing, and machine learning.\n",
        "3. **Vectorized Operations:** Numpy excels at performing operations on entire arrays element-wise, without the need for explicit loops. This vectorization leads to highly optimized and efficient computations.\n",
        "4. **Broadcasting:** Numpy supports broadcasting, a powerful technique that allows operations between arrays of different shapes. This feature simplifies many mathematical operations, especially when dealing with scalar values or arrays of different sizes.\n",
        "5. **Advanced Indexing and Slicing:** Ndarrays offer sophisticated indexing and slicing capabilities, enabling flexible access and manipulation of array elements. This includes integer indexing, boolean indexing, and fancy indexing.\n",
        "6. **Efficient Memory Layout:** Ndarrays are stored in contiguous memory blocks, which improves cache locality and reduces memory access time. This design choice contributes to their performance advantage over Python lists.\n",
        "7. **Integration with Other Libraries:** Numpy seamlessly integrates with other scientific computing libraries like SciPy, Matplotlib, and Pandas, forming a powerful toolset for data analysis and visualization.\n",
        "\n",
        "**How Numpy ndarrays Differ from Python Lists:**\n",
        "\n",
        "| Feature | Numpy ndarray | Python List |\n",
        "|---|---|---|\n",
        "| Data Type | Homogeneous | Heterogeneous |\n",
        "| Memory Efficiency | More Efficient | Less Efficient |\n",
        "| Performance | Faster for Numerical Operations | Slower for Numerical Operations |\n",
        "| Vectorization | Supports Vectorized Operations | Does Not Support Vectorized Operations |\n",
        "| Broadcasting | Supports Broadcasting | Does Not Support Broadcasting |\n",
        "| Advanced Indexing | Advanced Indexing and Slicing | Basic Indexing and Slicing |\n",
        "\n",
        "In summary, Numpy ndarrays provide a compelling alternative to Python lists for numerical computing tasks. Their efficiency, flexibility, and integration with other libraries make them an indispensable tool for data scientists, engineers, and researchers."
      ],
      "metadata": {
        "id": "F_PX1fxlKzYk"
      }
    },
    {
      "cell_type": "markdown",
      "source": [
        "Q6 - Analyze the performance benefits of Numpy arrays over Python lists for large-scale numerical operations."
      ],
      "metadata": {
        "id": "rdUKCT3-K6-K"
      }
    },
    {
      "cell_type": "markdown",
      "source": [
        "Ans - **Numpy Arrays vs. Python Lists: A Performance Deep Dive**\n",
        "\n",
        "When it comes to large-scale numerical operations, Numpy arrays offer a significant performance advantage over Python lists. Let's delve into the reasons behind this:\n",
        "\n",
        "**1. Memory Efficiency:**\n",
        "\n",
        "* **Homogeneous Data Type:** Numpy arrays store elements of the same data type, allowing for efficient memory allocation and management. This reduces memory overhead compared to Python lists, which can store elements of different data types.\n",
        "* **Contiguous Memory Layout:** Numpy arrays are stored in contiguous blocks of memory, which improves cache locality and reduces memory access time. Python lists, on the other hand, can be scattered across memory, leading to increased memory access costs.\n",
        "\n",
        "**2. Vectorized Operations:**\n",
        "\n",
        "* **Element-wise Operations:** Numpy supports vectorized operations, which allow you to perform operations on entire arrays at once, without the need for explicit loops. This leverages the power of underlying C implementations, resulting in significantly faster execution times.\n",
        "* **Broadcasting:** Numpy's broadcasting feature enables operations between arrays of different shapes, further optimizing computations.\n",
        "\n",
        "**3. Optimized C Implementation:**\n",
        "\n",
        "* **Underlying C Code:** Numpy is built on top of optimized C code, which provides a significant performance boost over pure Python implementations. This is particularly evident in numerical operations like matrix multiplication, linear algebra, and Fourier transforms.\n",
        "\n",
        "**Real-world Performance Comparison:**\n",
        "\n",
        "To illustrate the performance difference, consider a simple example: multiplying two large arrays element-wise.\n",
        "\n",
        "```python\n",
        "import numpy as np\n",
        "import time\n",
        "\n",
        "# Create two large arrays\n",
        "n = 1000000\n",
        "a = np.random.rand(n)\n",
        "b = np.random.rand(n)\n",
        "\n",
        "# Python list approach\n",
        "def python_list_multiply(a, b):\n",
        "    c = []\n",
        "    for i in range(n):\n",
        "        c.append(a[i] * b[i])\n",
        "    return c\n",
        "\n",
        "# Numpy array approach\n",
        "def numpy_array_multiply(a, b):\n",
        "    return a * b\n",
        "\n",
        "# Time the operations\n",
        "start_time = time.time()\n",
        "python_list_result = python_list_multiply(a, b)\n",
        "python_list_time = time.time() - start_time\n",
        "\n",
        "start_time = time.time()\n",
        "numpy_array_result = numpy_array_multiply(a, b)\n",
        "numpy_array_time = time.time() - start_time\n",
        "\n",
        "print(\"Python list time:\", python_list_time)\n",
        "print(\"Numpy array time:\", numpy_array_time)\n",
        "```\n",
        "\n",
        "When you run this code, you'll typically find that the Numpy array approach is significantly faster than the Python list approach, especially for large arrays."
      ],
      "metadata": {
        "id": "N-9gTNVbLCUC"
      }
    },
    {
      "cell_type": "markdown",
      "source": [
        "Q7 - Compare vstack() and hstack() functions in Numpy. Provide examples demonstrating their usage and output."
      ],
      "metadata": {
        "id": "R2uRRuM8LQoD"
      }
    },
    {
      "cell_type": "markdown",
      "source": [
        "Ans - **Numpy's vstack() and hstack(): A Comparative Analysis**\n",
        "\n",
        "In NumPy, `vstack()` and `hstack()` are powerful functions used to stack arrays vertically and horizontally, respectively.\n",
        "\n",
        "**vstack()**\n",
        "\n",
        "* **Vertical Stacking:** It stacks arrays vertically, meaning it places one array below another.\n",
        "* **Syntax:** `np.vstack((array1, array2, ...))`\n",
        "\n",
        "**Example:**\n",
        "\n",
        "```python\n",
        "import numpy as np\n",
        "\n",
        "array1 = np.array([[1, 2, 3], [4, 5, 6]])\n",
        "array2 = np.array([[7, 8, 9], [10, 11, 12]])\n",
        "\n",
        "stacked_array = np.vstack((array1, array2))\n",
        "\n",
        "print(stacked_array)\n",
        "```\n",
        "\n",
        "**Output:**\n",
        "\n",
        "```\n",
        "[[ 1  2  3]\n",
        " [ 4  5  6]\n",
        " [ 7  8  9]\n",
        " [10 11 12]]\n",
        "```\n",
        "\n",
        "**hstack()**\n",
        "\n",
        "* **Horizontal Stacking:** It stacks arrays horizontally, meaning it places one array to the right of another.\n",
        "* **Syntax:** `np.hstack((array1, array2, ...))`\n",
        "\n",
        "**Example:**\n",
        "\n",
        "```python\n",
        "import numpy as np\n",
        "\n",
        "array1 = np.array([[1, 2], [3, 4]])\n",
        "array2 = np.array([[5, 6], [7, 8]])\n",
        "\n",
        "stacked_array = np.hstack((array1, array2))\n",
        "\n",
        "print(stacked_array)\n",
        "```\n",
        "\n",
        "**Output:**\n",
        "\n",
        "```\n",
        "[[1 2 5 6]\n",
        " [3 4 7 8]]\n",
        "```\n",
        "\n",
        "**Key Considerations:**\n",
        "\n",
        "* **Array Shapes:** The arrays being stacked must have compatible shapes. For `vstack()`, the number of columns must be the same. For `hstack()`, the number of rows must be the same.\n",
        "* **Data Types:** The arrays should have the same data type or compatible data types for efficient stacking.\n",
        "\n",
        "By understanding the differences between `vstack()` and `hstack()`, you can effectively manipulate arrays to create new structures that suit your specific needs in numerical computations and data analysis."
      ],
      "metadata": {
        "id": "7A41SYTDLWgM"
      }
    },
    {
      "cell_type": "markdown",
      "source": [
        "Q8 - Explain the differences between fliplr() and flipud() methods in Numpy, including their effects on various array dimensions."
      ],
      "metadata": {
        "id": "hgwYdMriLeks"
      }
    },
    {
      "cell_type": "markdown",
      "source": [
        "Ans - **Understanding fliplr() and flipud() in NumPy**\n",
        "\n",
        "NumPy provides two functions, `fliplr()` and `flipud()`, for flipping arrays along specific axes. Let's break down their differences:\n",
        "\n",
        "**fliplr()**\n",
        "\n",
        "* **Flips the array horizontally.**\n",
        "* **Reverses the order of elements along the second axis (axis=1).**\n",
        "* **For 2D arrays, it flips the columns.**\n",
        "* **For higher-dimensional arrays, it flips the second-to-last dimension.**\n",
        "\n",
        "**Example:**\n",
        "\n",
        "```python\n",
        "import numpy as np\n",
        "\n",
        "arr = np.array([[1, 2, 3],\n",
        "                [4, 5, 6]])\n",
        "\n",
        "flipped_arr = np.fliplr(arr)\n",
        "print(flipped_arr)\n",
        "```\n",
        "\n",
        "**Output:**\n",
        "\n",
        "```\n",
        "[[3 2 1]\n",
        " [6 5 4]]\n",
        "```\n",
        "\n",
        "**flipud()**\n",
        "\n",
        "* **Flips the array vertically.**\n",
        "* **Reverses the order of elements along the first axis (axis=0).**\n",
        "* **For 2D arrays, it flips the rows.**\n",
        "* **For higher-dimensional arrays, it flips the first dimension.**\n",
        "\n",
        "**Example:**\n",
        "\n",
        "```python\n",
        "import numpy as np\n",
        "\n",
        "arr = np.array([[1, 2, 3],\n",
        "                [4, 5, 6]])\n",
        "\n",
        "flipped_arr = np.flipud(arr)\n",
        "print(flipped_arr)\n",
        "```\n",
        "\n",
        "**Output:**\n",
        "\n",
        "```\n",
        "[[4 5 6]\n",
        " [1 2 3]]\n",
        "```\n",
        "\n",
        "**Key Differences:**\n",
        "\n",
        "| Function | Axis | Effect |\n",
        "|---|---|---|\n",
        "| `fliplr()` | 1 (second-to-last) | Flips horizontally |\n",
        "| `flipud()` | 0 (first) | Flips vertically |\n",
        "\n",
        "**Visual Representation:**\n",
        "\n",
        "```\n",
        "Original Array:\n",
        "[[1 2 3]\n",
        " [4 5 6]]\n",
        "\n",
        "fliplr():\n",
        "[[3 2 1]\n",
        " [6 5 4]]\n",
        "\n",
        "flipud():\n",
        "[[4 5 6]\n",
        " [1 2 3]]\n",
        "```\n",
        "\n",
        "**In essence:**\n",
        "\n",
        "* `fliplr()` is like flipping a book horizontally.\n",
        "* `flipud()` is like flipping a book vertically.\n",
        "\n",
        "By understanding these functions, you can manipulate arrays effectively in various data processing and analysis tasks.\n"
      ],
      "metadata": {
        "id": "gq2X6EipOs1s"
      }
    },
    {
      "cell_type": "markdown",
      "source": [
        "Q9 - Discuss the functionality of the array_split() method in Numpy. How does it handle uneven splits?"
      ],
      "metadata": {
        "id": "Bq4ujaMWOzsr"
      }
    },
    {
      "cell_type": "markdown",
      "source": [
        "Ans - **Numpy's `array_split()` Method**\n",
        "\n",
        "The `array_split()` function in NumPy is a versatile tool for dividing an array into multiple sub-arrays. It's particularly useful when you need to split an array into a specific number of sub-arrays, regardless of whether the split is even or uneven.\n",
        "\n",
        "**How it Works:**\n",
        "\n",
        "1. **Input:**\n",
        "   - The array to be split.\n",
        "   - The desired number of splits (as an integer).\n",
        "\n",
        "2. **Output:**\n",
        "   - A list of sub-arrays.\n",
        "\n",
        "**Handling Uneven Splits:**\n",
        "\n",
        "When the array cannot be evenly divided into the specified number of sub-arrays, `array_split()` handles the unevenness intelligently:\n",
        "\n",
        "- **Even Split:** If the array's length is evenly divisible by the number of splits, each sub-array will have the same size.\n",
        "- **Uneven Split:** If the array's length is not evenly divisible, the sub-arrays will have approximately equal sizes, but the last sub-array might be slightly larger or smaller to accommodate the remainder.\n",
        "\n",
        "**Example:**\n",
        "\n",
        "```python\n",
        "import numpy as np\n",
        "\n",
        "arr = np.arange(11)\n",
        "\n",
        "# Even split into 4 sub-arrays\n",
        "split_arr1 = np.array_split(arr, 4)\n",
        "print(split_arr1)\n",
        "\n",
        "# Uneven split into 3 sub-arrays\n",
        "split_arr2 = np.array_split(arr, 3)\n",
        "print(split_arr2)\n",
        "```\n",
        "\n",
        "**Output:**\n",
        "\n",
        "```\n",
        "[array([0, 1, 2]), array([3, 4, 5]), array([6, 7, 8]), array([ 9, 10])]\n",
        "[array([0, 1, 2, 3]), array([4, 5, 6, 7]), array([ 8,  9, 10])]\n",
        "```\n",
        "\n",
        "As you can see, in the second example, the first two sub-arrays have 4 elements each, while the last one has 3 to accommodate the total length of 11.\n",
        "\n",
        "**Key Points:**\n",
        "\n",
        "- `array_split()` is flexible and can handle both even and uneven splits.\n",
        "- The output is a list of arrays, which can be useful for parallel processing or other applications.\n",
        "- For more granular control over splitting, consider using `split()` or `hsplit()` for horizontal splitting and `vsplit()` for vertical splitting.\n",
        "\n",
        "By understanding the behavior of `array_split()`, you can efficiently divide your NumPy arrays into smaller chunks for various data processing tasks.\n"
      ],
      "metadata": {
        "id": "m27rAjOjO5an"
      }
    },
    {
      "cell_type": "markdown",
      "source": [
        "Q10 - Explain the concepts of vectorization and broadcasting in Numpy. How do they contribute to efficient array operations?"
      ],
      "metadata": {
        "id": "GTsXq9ZOPAvB"
      }
    },
    {
      "cell_type": "markdown",
      "source": [
        "Ans - **Vectorization and Broadcasting in NumPy**\n",
        "\n",
        "NumPy, a powerful library for numerical computations in Python, leverages two key concepts, vectorization and broadcasting, to significantly enhance the efficiency of array operations.\n",
        "\n",
        "**Vectorization**\n",
        "\n",
        "Vectorization is a technique that replaces explicit loops with optimized array operations. It allows NumPy to perform operations on entire arrays element-wise, without the need for explicit Python loops. This leads to a significant performance boost, as these operations are often implemented in highly optimized C code.\n",
        "\n",
        "**Example:**\n",
        "\n",
        "```python\n",
        "import numpy as np\n",
        "\n",
        "# Vectorized approach\n",
        "a = np.array([1, 2, 3])\n",
        "b = np.array([4, 5, 6])\n",
        "c = a + b  # Element-wise addition\n",
        "\n",
        "# Equivalent loop-based approach (less efficient)\n",
        "c = np.zeros_like(a)\n",
        "for i in range(len(a)):\n",
        "    c[i] = a[i] + b[i]\n",
        "```\n",
        "\n",
        "In the vectorized approach, the addition operation is performed on entire arrays in a single step, which is much faster than the loop-based approach.\n",
        "\n",
        "**Broadcasting**\n",
        "\n",
        "Broadcasting is a powerful feature that allows NumPy to perform operations on arrays with different shapes, as long as certain conditions are met. NumPy automatically expands the dimensions of smaller arrays to match the shape of the larger array, enabling operations between arrays of different sizes.\n",
        "\n",
        "**Rules for Broadcasting:**\n",
        "\n",
        "1. **Shape Compatibility:** The arrays must be compatible in shape. This means that either their shapes are identical, or one of them has a shape of 1 in a particular dimension.\n",
        "2. **Dimension Expansion:** If the shapes are not identical, the smaller array is stretched or broadcast to match the shape of the larger array.\n",
        "3. **Broadcasting Direction:** Broadcasting occurs along the leading dimensions.\n",
        "\n",
        "**Example:**\n",
        "\n",
        "```python\n",
        "a = np.array([[1, 2], [3, 4]])\n",
        "b = np.array([10, 20])\n",
        "\n",
        "c = a * b  # Broadcasting b to match the shape of a\n",
        "```\n",
        "\n",
        "In this example, the array `b` is broadcast to match the shape of `a`, and the multiplication is performed element-wise.\n",
        "\n",
        "**Benefits of Vectorization and Broadcasting:**\n",
        "\n",
        "- **Performance:** By eliminating Python loops, vectorization and broadcasting significantly improve the performance of array operations.\n",
        "- **Readability:** Vectorized operations often lead to more concise and readable code.\n",
        "- **Conciseness:** Broadcasting allows you to perform complex operations on arrays of different shapes without explicit loops or reshaping.\n",
        "\n",
        "By understanding and effectively utilizing vectorization and broadcasting, you can write efficient and elegant NumPy code for a wide range of numerical computations.\n"
      ],
      "metadata": {
        "id": "cWTsD6OoPF5C"
      }
    },
    {
      "cell_type": "markdown",
      "source": [
        "## Practical Questions :"
      ],
      "metadata": {
        "id": "f5nAw3_OJEyM"
      }
    },
    {
      "cell_type": "markdown",
      "source": [
        "Q1 - Create a 3x3 Numpy array with random integers between 1 and 100. Then, interchange its rows and columns."
      ],
      "metadata": {
        "id": "dfifMAA3RONQ"
      }
    },
    {
      "cell_type": "code",
      "source": [
        "import numpy as np\n",
        "\n",
        "# Create a 3x3 NumPy array with random integers between 1 and 100\n",
        "array = np.random.randint(1, 101, size=(3, 3))\n",
        "\n",
        "print(\"Original array:\")\n",
        "print(array)\n",
        "\n",
        "# Interchange rows and columns using the transpose operation\n",
        "transposed_array = array.T\n",
        "\n",
        "print(\"\\nTransposed array (rows and columns interchanged):\")\n",
        "print(transposed_array)"
      ],
      "metadata": {
        "colab": {
          "base_uri": "https://localhost:8080/"
        },
        "id": "JtXje4VHRSfw",
        "outputId": "b3a77702-d541-413f-ec7d-6f8d3ec9f4dd"
      },
      "execution_count": null,
      "outputs": [
        {
          "output_type": "stream",
          "name": "stdout",
          "text": [
            "Original array:\n",
            "[[43 90 13]\n",
            " [73 52 74]\n",
            " [ 3 23 48]]\n",
            "\n",
            "Transposed array (rows and columns interchanged):\n",
            "[[43 73  3]\n",
            " [90 52 23]\n",
            " [13 74 48]]\n"
          ]
        }
      ]
    },
    {
      "cell_type": "markdown",
      "source": [
        "Q2 - Generate a 1D Numpy array with 10 elements. Reshape it into a 2x5 array, then into 5x2 array."
      ],
      "metadata": {
        "id": "8S-Zp877R6Lo"
      }
    },
    {
      "cell_type": "code",
      "source": [
        "import numpy as np\n",
        "\n",
        "# Create a 1D array with 10 elements\n",
        "array = np.random.randint(1, 101, size=10)\n",
        "\n",
        "print(\"Original 1D array:\")\n",
        "print(array)\n",
        "\n",
        "# Reshape into a 2x5 array\n",
        "array_2x5 = array.reshape(2, 5)\n",
        "\n",
        "print(\"\\nReshaped 2x5 array:\")\n",
        "print(array_2x5)\n",
        "\n",
        "# Reshape into a 5x2 array\n",
        "array_5x2 = array.reshape(5, 2)\n",
        "\n",
        "print(\"\\nReshaped 5x2 array:\")\n",
        "print(array_5x2)"
      ],
      "metadata": {
        "colab": {
          "base_uri": "https://localhost:8080/"
        },
        "id": "lTk1_Rz3R7wa",
        "outputId": "3cfe2ac4-f606-4f0f-9de3-589714a9f8b9"
      },
      "execution_count": null,
      "outputs": [
        {
          "output_type": "stream",
          "name": "stdout",
          "text": [
            "Original 1D array:\n",
            "[79 34 90 94 36 32 69 95 84 81]\n",
            "\n",
            "Reshaped 2x5 array:\n",
            "[[79 34 90 94 36]\n",
            " [32 69 95 84 81]]\n",
            "\n",
            "Reshaped 5x2 array:\n",
            "[[79 34]\n",
            " [90 94]\n",
            " [36 32]\n",
            " [69 95]\n",
            " [84 81]]\n"
          ]
        }
      ]
    },
    {
      "cell_type": "markdown",
      "source": [
        "Q3 - Create a 4x4 Numpy array with random float values. Add a border of zeros around it, resulting in a 6x6 array."
      ],
      "metadata": {
        "id": "CAUYujrFSAUE"
      }
    },
    {
      "cell_type": "code",
      "source": [
        "import numpy as np\n",
        "\n",
        "# Create a 4x4 array with random float values\n",
        "array = np.random.rand(4, 4)\n",
        "\n",
        "# Add a border of zeros\n",
        "array_with_border = np.pad(array, pad_width=1, mode='constant', constant_values=0)\n",
        "\n",
        "print(\"Original array:\")\n",
        "print(array)\n",
        "\n",
        "print(\"\\nArray with zero border:\")\n",
        "print(array_with_border)"
      ],
      "metadata": {
        "colab": {
          "base_uri": "https://localhost:8080/"
        },
        "id": "L2Z5D8LlSarP",
        "outputId": "599fcaa3-18b6-41fc-f9f4-016fdbef3d20"
      },
      "execution_count": null,
      "outputs": [
        {
          "output_type": "stream",
          "name": "stdout",
          "text": [
            "Original array:\n",
            "[[0.26028065 0.83062092 0.7492325  0.13989013]\n",
            " [0.42348251 0.69566343 0.88886928 0.49424165]\n",
            " [0.75351984 0.51837342 0.08049012 0.68172468]\n",
            " [0.68854213 0.17643922 0.9108773  0.70134037]]\n",
            "\n",
            "Array with zero border:\n",
            "[[0.         0.         0.         0.         0.         0.        ]\n",
            " [0.         0.26028065 0.83062092 0.7492325  0.13989013 0.        ]\n",
            " [0.         0.42348251 0.69566343 0.88886928 0.49424165 0.        ]\n",
            " [0.         0.75351984 0.51837342 0.08049012 0.68172468 0.        ]\n",
            " [0.         0.68854213 0.17643922 0.9108773  0.70134037 0.        ]\n",
            " [0.         0.         0.         0.         0.         0.        ]]\n"
          ]
        }
      ]
    },
    {
      "cell_type": "markdown",
      "source": [
        "Q4 - Using Numpy, create an array of integers from 10 to 60 with a step of 5."
      ],
      "metadata": {
        "id": "3ZC9PGQkE4oz"
      }
    },
    {
      "cell_type": "code",
      "source": [
        "import numpy as np\n",
        "\n",
        "array = np.arange(10, 61, 5)\n",
        "print(array)"
      ],
      "metadata": {
        "colab": {
          "base_uri": "https://localhost:8080/"
        },
        "id": "MQEKSLtIE6Ml",
        "outputId": "5737534d-6b4d-4cdd-9517-b73db45eddcf"
      },
      "execution_count": null,
      "outputs": [
        {
          "output_type": "stream",
          "name": "stdout",
          "text": [
            "[10 15 20 25 30 35 40 45 50 55 60]\n"
          ]
        }
      ]
    },
    {
      "cell_type": "markdown",
      "source": [
        "Q5 - Create a Numpy array of strings ['python','numpy','pandas']. Apply different case transformations (uppercase, lowercase, title case, etc.) to each element."
      ],
      "metadata": {
        "id": "SFWxlJj8FqTK"
      }
    },
    {
      "cell_type": "code",
      "source": [
        "import numpy as np\n",
        "\n",
        "arr = np.array(['python', 'numpy', 'pandas'])\n",
        "\n",
        "# Uppercase\n",
        "upper_arr = np.char.upper(arr)\n",
        "print(\"Uppercase:\", upper_arr)\n",
        "\n",
        "# Lowercase\n",
        "lower_arr = np.char.lower(arr)\n",
        "print(\"Lowercase:\", lower_arr)\n",
        "\n",
        "# Title case\n",
        "title_arr = np.char.title(arr)\n",
        "print(\"Title case:\", title_arr)\n",
        "\n",
        "# Swapcase\n",
        "swap_arr = np.char.swapcase(arr)\n",
        "print(\"Swapcase:\", swap_arr)"
      ],
      "metadata": {
        "colab": {
          "base_uri": "https://localhost:8080/"
        },
        "id": "7M7pIOHeFtNT",
        "outputId": "a998172b-0973-4d04-d8cd-bbcf7e154cc5"
      },
      "execution_count": null,
      "outputs": [
        {
          "output_type": "stream",
          "name": "stdout",
          "text": [
            "Uppercase: ['PYTHON' 'NUMPY' 'PANDAS']\n",
            "Lowercase: ['python' 'numpy' 'pandas']\n",
            "Title case: ['Python' 'Numpy' 'Pandas']\n",
            "Swapcase: ['PYTHON' 'NUMPY' 'PANDAS']\n"
          ]
        }
      ]
    },
    {
      "cell_type": "markdown",
      "source": [
        "Q6 - Generate a Numpy array of words. Insert a space between each character of every word in the array."
      ],
      "metadata": {
        "id": "mm-dArwbGqBm"
      }
    },
    {
      "cell_type": "code",
      "source": [
        "import numpy as np\n",
        "\n",
        "# Original array of words\n",
        "arr = np.array(['python', 'numpy', 'pandas'])\n",
        "\n",
        "# Insert space between each character\n",
        "spaced_arr = np.char.join(' ', arr)\n",
        "print(spaced_arr)\n"
      ],
      "metadata": {
        "colab": {
          "base_uri": "https://localhost:8080/"
        },
        "id": "gvvSWcMmGt6Y",
        "outputId": "689db9f3-8ed4-4c95-be65-5a008954fe52"
      },
      "execution_count": null,
      "outputs": [
        {
          "output_type": "stream",
          "name": "stdout",
          "text": [
            "['p y t h o n' 'n u m p y' 'p a n d a s']\n"
          ]
        }
      ]
    },
    {
      "cell_type": "markdown",
      "source": [
        "Q7 - Create two 2D Numpy arrays and perform element-wise addition, subtraction, multiplication, and division."
      ],
      "metadata": {
        "id": "s-87SQUOHdO2"
      }
    },
    {
      "cell_type": "code",
      "source": [
        "import numpy as np\n",
        "\n",
        "# Create two 2D arrays\n",
        "arr1 = np.array([[1, 2, 3], [4, 5, 6]])\n",
        "arr2 = np.array([[6, 5, 4], [3, 2, 1]])\n",
        "\n",
        "# Element-wise addition\n",
        "addition = arr1 + arr2\n",
        "print(\"Addition:\\n\", addition)\n",
        "\n",
        "# Element-wise subtraction\n",
        "subtraction = arr1 - arr2\n",
        "print(\"Subtraction:\\n\", subtraction)\n",
        "\n",
        "# Element-wise multiplication\n",
        "multiplication = arr1 * arr2\n",
        "print(\"Multiplication:\\n\", multiplication)\n",
        "\n",
        "# Element-wise division\n",
        "division = arr1 / arr2\n",
        "print(\"Division:\\n\", division)"
      ],
      "metadata": {
        "colab": {
          "base_uri": "https://localhost:8080/"
        },
        "id": "5RU6KVCbHfEP",
        "outputId": "82b90e1c-0b87-4704-f632-058eb143c1fb"
      },
      "execution_count": null,
      "outputs": [
        {
          "output_type": "stream",
          "name": "stdout",
          "text": [
            "Addition:\n",
            " [[7 7 7]\n",
            " [7 7 7]]\n",
            "Subtraction:\n",
            " [[-5 -3 -1]\n",
            " [ 1  3  5]]\n",
            "Multiplication:\n",
            " [[ 6 10 12]\n",
            " [12 10  6]]\n",
            "Division:\n",
            " [[0.16666667 0.4        0.75      ]\n",
            " [1.33333333 2.5        6.        ]]\n"
          ]
        }
      ]
    },
    {
      "cell_type": "markdown",
      "source": [
        "Q8 - Use Numpy to create a 5x5 identity matrix, then extract its diagonal elements."
      ],
      "metadata": {
        "id": "9zNl40iCH9Pb"
      }
    },
    {
      "cell_type": "code",
      "source": [
        "import numpy as np\n",
        "\n",
        "# Create a 5x5 identity matrix\n",
        "identity_matrix = np.eye(5)\n",
        "print(\"Identity Matrix:\\n\", identity_matrix)\n",
        "\n",
        "# Extract the diagonal elements\n",
        "diagonal_elements = np.diag(identity_matrix)\n",
        "print(\"Diagonal Elements:\", diagonal_elements)"
      ],
      "metadata": {
        "colab": {
          "base_uri": "https://localhost:8080/"
        },
        "id": "7q-f9r2cIAIz",
        "outputId": "3c413ec0-b272-4d63-fceb-2c709ea58a4c"
      },
      "execution_count": null,
      "outputs": [
        {
          "output_type": "stream",
          "name": "stdout",
          "text": [
            "Identity Matrix:\n",
            " [[1. 0. 0. 0. 0.]\n",
            " [0. 1. 0. 0. 0.]\n",
            " [0. 0. 1. 0. 0.]\n",
            " [0. 0. 0. 1. 0.]\n",
            " [0. 0. 0. 0. 1.]]\n",
            "Diagonal Elements: [1. 1. 1. 1. 1.]\n"
          ]
        }
      ]
    },
    {
      "cell_type": "markdown",
      "source": [
        "Q9 - Generate a Numpy array of 100 random integers between 0 and 1000. Find and display all prime numbers in this array."
      ],
      "metadata": {
        "id": "VL5IkuhWIdid"
      }
    },
    {
      "cell_type": "code",
      "source": [
        "import numpy as np\n",
        "\n",
        "# Generate a NumPy array of 100 random integers between 0 and 1000\n",
        "arr = np.random.randint(0, 1001, size=100)\n",
        "print(\"Array of random integers:\\n\", arr)\n",
        "\n",
        "# Function to check if a number is prime\n",
        "def is_prime(n):\n",
        "    if n < 2:\n",
        "        return False\n",
        "    for i in range(2, int(n**0.5) + 1):\n",
        "        if n % i == 0:\n",
        "            return False\n",
        "    return True\n",
        "\n",
        "# Find all prime numbers in the array\n",
        "primes = arr[np.vectorize(is_prime)(arr)]\n",
        "print(\"Prime numbers in the array:\\n\", primes)"
      ],
      "metadata": {
        "colab": {
          "base_uri": "https://localhost:8080/"
        },
        "id": "rqA6OhpOIfdP",
        "outputId": "6a9e0829-17df-471e-8e67-c5b8adedd5e6"
      },
      "execution_count": null,
      "outputs": [
        {
          "output_type": "stream",
          "name": "stdout",
          "text": [
            "Array of random integers:\n",
            " [817 441 452 293  86 594 259 310 963 527  79 446 472  76 694 593  65 382\n",
            " 800 306 583 321  90 104 974 292  82 343  71 645 665 416 570 855 276 796\n",
            " 332 410 281 740  81 315 228 785 848  53 156 631 905 529   2 576 862 341\n",
            " 156 259 898 994 175 385 759 762 528 750 860 275 557 742 213 584 359 988\n",
            " 187 475 996 258 645 200 113 843  19 547 652 600  81 503 555 522 681  38\n",
            " 534 106 967 892 204 768 211 849 679  45]\n",
            "Prime numbers in the array:\n",
            " [293  79 593  71 281  53 631   2 557 359 113  19 547 503 967 211]\n"
          ]
        }
      ]
    },
    {
      "cell_type": "markdown",
      "source": [
        "Q10 - Create a Numpy array representing daily temperatures for a month. Calculate and display the weekly averages."
      ],
      "metadata": {
        "id": "x48cA3fLI4uS"
      }
    },
    {
      "cell_type": "code",
      "source": [
        "import numpy as np\n",
        "\n",
        "# Generate a NumPy array of 30 random daily temperatures (e.g., between 20 and 35 degrees Celsius)\n",
        "temperatures = np.random.randint(20, 36, size=30)\n",
        "print(\"Daily Temperatures:\\n\", temperatures)\n",
        "\n",
        "# Calculate weekly averages (4 weeks, assuming 7 days each, and 2 days left for a 30-day month)\n",
        "weekly_averages = [np.mean(temperatures[i:i+7]) for i in range(0, 28, 7)]\n",
        "remaining_days_average = np.mean(temperatures[28:])\n",
        "\n",
        "# Display weekly averages and remaining days average\n",
        "print(\"\\nWeekly Averages:\")\n",
        "for i, avg in enumerate(weekly_averages, start=1):\n",
        "    print(f\"Week {i} Average: {avg:.2f}\")\n",
        "\n",
        "print(f\"\\nRemaining Days Average: {remaining_days_average:.2f}\")"
      ],
      "metadata": {
        "colab": {
          "base_uri": "https://localhost:8080/"
        },
        "id": "GujvKUJ_I-et",
        "outputId": "6470c3a0-7b96-44bb-d6d0-a6dc5addeaea"
      },
      "execution_count": null,
      "outputs": [
        {
          "output_type": "stream",
          "name": "stdout",
          "text": [
            "Daily Temperatures:\n",
            " [34 33 27 30 24 30 35 32 24 29 27 24 20 23 30 33 24 31 34 33 33 30 25 35\n",
            " 22 34 35 29 29 34]\n",
            "\n",
            "Weekly Averages:\n",
            "Week 1 Average: 30.43\n",
            "Week 2 Average: 25.57\n",
            "Week 3 Average: 31.14\n",
            "Week 4 Average: 30.00\n",
            "\n",
            "Remaining Days Average: 31.50\n"
          ]
        }
      ]
    }
  ]
}